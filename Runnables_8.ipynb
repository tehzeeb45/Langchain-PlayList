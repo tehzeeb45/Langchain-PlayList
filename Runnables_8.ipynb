{
  "nbformat": 4,
  "nbformat_minor": 0,
  "metadata": {
    "colab": {
      "provenance": [],
      "authorship_tag": "ABX9TyMKjI/egCAMTbpXdpcQVrQ+",
      "include_colab_link": true
    },
    "kernelspec": {
      "name": "python3",
      "display_name": "Python 3"
    },
    "language_info": {
      "name": "python"
    }
  },
  "cells": [
    {
      "cell_type": "markdown",
      "metadata": {
        "id": "view-in-github",
        "colab_type": "text"
      },
      "source": [
        "<a href=\"https://colab.research.google.com/github/tehzeeb45/Langchain-PlayList/blob/main/Runnables_8.ipynb\" target=\"_parent\"><img src=\"https://colab.research.google.com/assets/colab-badge.svg\" alt=\"Open In Colab\"/></a>"
      ]
    },
    {
      "cell_type": "code",
      "execution_count": null,
      "metadata": {
        "id": "gX-tfZLwcHSd"
      },
      "outputs": [],
      "source": [
        "from abc import ABC, abstractmethod"
      ]
    },
    {
      "cell_type": "code",
      "source": [
        "class Runnable(ABC):\n",
        "  @abstractmethod\n",
        "  def invoke(input_data):\n",
        "    pass"
      ],
      "metadata": {
        "id": "kYYCI2e3gbz7"
      },
      "execution_count": null,
      "outputs": []
    },
    {
      "cell_type": "code",
      "source": [
        "import random\n",
        "\n",
        "class Naklillm(Runnable):\n",
        "    def __init__(self):\n",
        "        print('LLM created')\n",
        "\n",
        "    def invoke(self, prompt):   # ✅ ab sahi jagah hai\n",
        "        response_list = [\n",
        "            'Islamabad is the capital of Pakistan',\n",
        "            'PSL is a cricket league'\n",
        "        ]\n",
        "        return {'response': random.choice(response_list)}\n"
      ],
      "metadata": {
        "id": "3oLAqSMsgb6w"
      },
      "execution_count": null,
      "outputs": []
    },
    {
      "cell_type": "code",
      "source": [
        "class NakliPromptTemplate(Runnable):\n",
        "    def __init__(self, template, input_variables):\n",
        "        self.template = template\n",
        "        self.input_variables = input_variables\n",
        "\n",
        "    def format(self, input_dict):\n",
        "        return self.template.format(**input_dict)\n",
        "\n",
        "    def invoke(self, input_dict):\n",
        "        return self.format(input_dict)\n"
      ],
      "metadata": {
        "id": "nAp6abxCgc1b"
      },
      "execution_count": null,
      "outputs": []
    },
    {
      "cell_type": "code",
      "source": [
        "class NakliStrOutparser(Runnable):\n",
        "\n",
        " def __init__(self):\n",
        "  pass\n",
        "  def invoke(self, input):\n",
        "    return input_data['responce']\n",
        "\n"
      ],
      "metadata": {
        "id": "vv_Bz9jfopQh"
      },
      "execution_count": null,
      "outputs": []
    },
    {
      "cell_type": "code",
      "source": [
        "class RunnableConnector(Runnable):\n",
        "    def __init__(self, runnable_list):\n",
        "        self.runnable_list = runnable_list\n",
        "\n",
        "    def invoke(self, input_data):\n",
        "        for runnable in self.runnable_list:\n",
        "            input_data = runnable.invoke(input_data)\n",
        "            return input_data\n"
      ],
      "metadata": {
        "id": "7ffVx1o7jEFJ"
      },
      "execution_count": null,
      "outputs": []
    },
    {
      "cell_type": "code",
      "source": [
        "template = NakliPromptTemplate(\n",
        "    template = 'Write a {length} poem about {topic}',\n",
        "    input_variables = ['length','topic']\n",
        ")\n"
      ],
      "metadata": {
        "id": "tKhxndSElWGd"
      },
      "execution_count": null,
      "outputs": []
    },
    {
      "cell_type": "code",
      "source": [
        "llm = Naklillm()"
      ],
      "metadata": {
        "colab": {
          "base_uri": "https://localhost:8080/"
        },
        "id": "17leoIEZlgIQ",
        "outputId": "01169310-9184-4824-fd07-54d6e3658bf3"
      },
      "execution_count": null,
      "outputs": [
        {
          "output_type": "stream",
          "name": "stdout",
          "text": [
            "LLM created\n"
          ]
        }
      ]
    },
    {
      "cell_type": "code",
      "source": [
        "class NakliStrOutparser:\n",
        "    def __init__(self):\n",
        "        print(\"String Output Parser created\")\n",
        "\n",
        "    def parse(self, input_data):\n",
        "        return str(input_data)\n"
      ],
      "metadata": {
        "id": "vySI5SDfp7Dn"
      },
      "execution_count": null,
      "outputs": []
    },
    {
      "cell_type": "code",
      "source": [
        "parser = NakliStrOutparser()"
      ],
      "metadata": {
        "colab": {
          "base_uri": "https://localhost:8080/"
        },
        "id": "CH5EtU1ZpWyX",
        "outputId": "35296ba5-d268-4be5-fce6-20d4bcdb3beb"
      },
      "execution_count": null,
      "outputs": [
        {
          "output_type": "stream",
          "name": "stdout",
          "text": [
            "String Output Parser created\n"
          ]
        }
      ]
    },
    {
      "cell_type": "code",
      "source": [
        "chain = RunnableConnector([template,llm, parser])"
      ],
      "metadata": {
        "id": "BI5jH-cYlE8W"
      },
      "execution_count": null,
      "outputs": []
    },
    {
      "cell_type": "code",
      "source": [
        "chain.invoke({'length':'long','topic': 'Pakistan'})"
      ],
      "metadata": {
        "colab": {
          "base_uri": "https://localhost:8080/",
          "height": 35
        },
        "id": "u4VKYMPHoILG",
        "outputId": "1725d387-5795-4473-bbf2-524f09468878"
      },
      "execution_count": null,
      "outputs": [
        {
          "output_type": "execute_result",
          "data": {
            "text/plain": [
              "'Write a long poem about Pakistan'"
            ],
            "application/vnd.google.colaboratory.intrinsic+json": {
              "type": "string"
            }
          },
          "metadata": {},
          "execution_count": 50
        }
      ]
    },
    {
      "cell_type": "code",
      "source": [
        "template1 = NakliPromptTemplate(\n",
        "    template = 'Write a joke about {topic}',\n",
        "    input_variables = ['topic']\n",
        ")"
      ],
      "metadata": {
        "id": "UWBooIbMomgQ"
      },
      "execution_count": null,
      "outputs": []
    },
    {
      "cell_type": "code",
      "source": [
        "template2 = NakliPromptTemplate(\n",
        "    template = 'Write a summary about the following joke {responce}',\n",
        "    input_variables = ['responce']\n",
        ")"
      ],
      "metadata": {
        "id": "ZIlh3cMrsT88"
      },
      "execution_count": null,
      "outputs": []
    },
    {
      "cell_type": "code",
      "source": [
        "llm = Naklillm()"
      ],
      "metadata": {
        "colab": {
          "base_uri": "https://localhost:8080/"
        },
        "id": "VSEg0GjQsUet",
        "outputId": "e5037921-e866-430e-fb7f-e606a0c1bbd6"
      },
      "execution_count": null,
      "outputs": [
        {
          "output_type": "stream",
          "name": "stdout",
          "text": [
            "LLM created\n"
          ]
        }
      ]
    },
    {
      "cell_type": "code",
      "source": [
        "parser = NakliStrOutparser()"
      ],
      "metadata": {
        "colab": {
          "base_uri": "https://localhost:8080/"
        },
        "id": "kzjS34lispX3",
        "outputId": "6b57c270-0db1-45c1-ad7c-4f18015cdf92"
      },
      "execution_count": null,
      "outputs": [
        {
          "output_type": "stream",
          "name": "stdout",
          "text": [
            "String Output Parser created\n"
          ]
        }
      ]
    },
    {
      "cell_type": "code",
      "source": [
        "chain1 = RunnableConnector([template1, llm])"
      ],
      "metadata": {
        "id": "Ybzz1ijVsu9l"
      },
      "execution_count": null,
      "outputs": []
    },
    {
      "cell_type": "code",
      "source": [
        "chain2 = RunnableConnector([template2, llm, parser])"
      ],
      "metadata": {
        "id": "x53TMxwXtYYF"
      },
      "execution_count": null,
      "outputs": []
    },
    {
      "cell_type": "code",
      "source": [
        "final_chain = RunnableConnector([chain1, chain2])"
      ],
      "metadata": {
        "id": "VofSx5D-tr8Z"
      },
      "execution_count": null,
      "outputs": []
    },
    {
      "cell_type": "code",
      "source": [
        "final_chain.invoke({'topic': 'Cricket'})"
      ],
      "metadata": {
        "colab": {
          "base_uri": "https://localhost:8080/",
          "height": 35
        },
        "id": "-RL8ETwOuHm1",
        "outputId": "89a4b314-e711-479f-a768-750a19362009"
      },
      "execution_count": null,
      "outputs": [
        {
          "output_type": "execute_result",
          "data": {
            "text/plain": [
              "'Write a joke about Cricket'"
            ],
            "application/vnd.google.colaboratory.intrinsic+json": {
              "type": "string"
            }
          },
          "metadata": {},
          "execution_count": 64
        }
      ]
    },
    {
      "cell_type": "code",
      "source": [],
      "metadata": {
        "id": "WQDuteZvuUkv"
      },
      "execution_count": null,
      "outputs": []
    }
  ]
}